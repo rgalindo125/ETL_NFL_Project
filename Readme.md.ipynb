{
 "cells": [
  {
   "cell_type": "code",
   "execution_count": null,
   "metadata": {},
   "outputs": [],
   "source": [
    "# NFL Players Stats with criminal records\n",
    "The purpose of this project is to identify NFL player arrest records and their demographic player records. \n",
    "We are also asking: \"Which team drafted the most players with arrest records during the period 2010 -2017?\"\n",
    "    \n",
    "## The Process:\n",
    "We analyzed all the available arrest data from  and focussed on player name and arrest record and joining player demographic information. \n",
    "    \n",
    "**Extract**\n",
    "Orinal Data Sources include:\n",
    "    *Web Scraping:"
   ]
  }
 ],
 "metadata": {
  "kernelspec": {
   "display_name": "Python 3",
   "language": "python",
   "name": "python3"
  },
  "language_info": {
   "codemirror_mode": {
    "name": "ipython",
    "version": 3
   },
   "file_extension": ".py",
   "mimetype": "text/x-python",
   "name": "python",
   "nbconvert_exporter": "python",
   "pygments_lexer": "ipython3",
   "version": "3.7.3"
  }
 },
 "nbformat": 4,
 "nbformat_minor": 2
}
